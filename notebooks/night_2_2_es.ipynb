{
 "cells": [
  {
   "cell_type": "markdown",
   "metadata": {},
   "source": [
    "# La libreta científica de Alba\n",
    "Esta es mi **libreta científica**. Aquí voy apuntando todo lo que hago ... es importante apuntarlo todo, como mínimo para mi ya que si no después no recuedo todo lo que he hecho.\n",
    "\n",
    "Ahora toca calcular **CUÁNTOS MAGIC CABEN EN EL CIELO **\n",
    "\n",
    "Como siempre, para empezar con esto del **iPython** tenemos que cargar las librerías que usaremos. Es una de las mejores cosas de Python, hay un montón de gente creando librerías muy útiles."
   ]
  },
  {
   "cell_type": "code",
   "execution_count": 1,
   "metadata": {
    "collapsed": false
   },
   "outputs": [],
   "source": [
    "import math"
   ]
  },
  {
   "cell_type": "markdown",
   "metadata": {},
   "source": [
    "Lo primero que necesito saber para calcular cuantos MAGIC caben en el cielo es saber como de grande es el cielo. ¡Sí! El universo es infinito, pero cuando miro hacia una estrella, estoy viendo también todo lo que hay detrás y delante de la ella. Por tanto, quiero saber el tamaño del cielo en direcciones, no en m, km, parsecs, años luz ni nada por el estilo ... y las direcciones se calculan en **estereorradianes**, que se definen como la superficie explorada dividido por la distancia a la que está la superficie al cuadrado.\n",
    "\n",
    "Parece complicado, pero pensémoslo juntos ... quizá no lo es en realidad. Para una esfera con radio 10 Km de la cual yo estoy en el centro, tenemos:"
   ]
  },
  {
   "cell_type": "code",
   "execution_count": 2,
   "metadata": {
    "collapsed": false
   },
   "outputs": [
    {
     "name": "stdout",
     "output_type": "stream",
     "text": [
      "La superficie de la esfera de radio  10000  metros es  1256637061.44 metros cuadrados\n"
     ]
    }
   ],
   "source": [
    "radio=10000\n",
    "superficie = 4 * math.pi * (radio*radio)\n",
    "print (\"La superficie de la esfera de radio \",radio, \" metros es \", superficie, \"metros cuadrados\")"
   ]
  },
  {
   "cell_type": "markdown",
   "metadata": {},
   "source": [
    "Ahora sólo nos fallta dividir la superficie por el radio al cuadrado y tendremos los estereoradianes para un esfera de 10 km de la cual estamos en el centro."
   ]
  },
  {
   "cell_type": "code",
   "execution_count": 3,
   "metadata": {
    "collapsed": false
   },
   "outputs": [
    {
     "name": "stdout",
     "output_type": "stream",
     "text": [
      " La dimensión angular de una esfera de 10 Km de la cual estamos en el centro es 12.5663706144 estereorradianes\n"
     ]
    }
   ],
   "source": [
    "stereorradianes = superficie / (radio*radio)\n",
    "print (\"La dimensión angular de una esfera de 10 Km de la cual estamos en el centro es\", stereorradianes, \"estereorradianes\")"
   ]
  },
  {
   "cell_type": "markdown",
   "metadata": {},
   "source": [
    "De hecho, si os habéis fijado, eso es independiente del tamaño de la esfera ... Por tanto el tamaño angular del cielo que vemos desde la tierra es el mismo.\n",
    "Sí, sí ... la Tierra está en el centro del universo visible desde la Tierra, que no quiere decir que esté en el centro del universo.\n",
    "\n",
    "----------\n",
    "\n",
    "Ahora me falta calcular el tamaño del trozo de cielo que se puede mirar con MAGIC. Sé que en grados son 2 grados por 2 grados, es decir 4 grados cuadrado. Pero tengo que convertirlo en estereorradianes.\n",
    "\n",
    "Por suerte desde el instituto que me explican con la trigonometría que 180 grados son Pi radianes. "
   ]
  },
  {
   "cell_type": "code",
   "execution_count": 4,
   "metadata": {
    "collapsed": false
   },
   "outputs": [
    {
     "name": "stdout",
     "output_type": "stream",
     "text": [
      "El área cubierta por MAGIC son  0.00121846967915 stereoradianes.\n"
     ]
    }
   ],
   "source": [
    "GradoARadian = math.pi / 180.0\n",
    "GradoCuadradoAStereorradian = GradoARadian * GradoARadian\n",
    "AreaDeMAGIC = 4 * GradoCuadradoAStereorradian\n",
    "print (\"El área cubierta por MAGIC son \", AreaDeMAGIC, \"stereoradianes.\")"
   ]
  },
  {
   "cell_type": "markdown",
   "metadata": {},
   "source": [
    "Ya solo me falta dividirlos\n",
    "> ** Tamaño angular del cielo / Tamaño angular de MAGIC **"
   ]
  },
  {
   "cell_type": "code",
   "execution_count": 5,
   "metadata": {
    "collapsed": false
   },
   "outputs": [
    {
     "name": "stdout",
     "output_type": "stream",
     "text": [
      "En el cielo caben 10313.2403124 MAGICs\n"
     ]
    }
   ],
   "source": [
    "print (\"En el cielo caben\", stereorradianes/AreaDeMAGIC, \"MAGICs\")"
   ]
  },
  {
   "cell_type": "markdown",
   "metadata": {
    "collapsed": true
   },
   "source": [
    "Pero qué pequeño es MAGIC ... o ¡qué grande es el cielo!"
   ]
  }
 ],
 "metadata": {
  "kernelspec": {
   "display_name": "Python 2",
   "language": "python",
   "name": "python2"
  },
  "language_info": {
   "codemirror_mode": {
    "name": "ipython",
    "version": 2
   },
   "file_extension": ".py",
   "mimetype": "text/x-python",
   "name": "python",
   "nbconvert_exporter": "python",
   "pygments_lexer": "ipython2",
   "version": "2.7.12"
  }
 },
 "nbformat": 4,
 "nbformat_minor": 0
}
