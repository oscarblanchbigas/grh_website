{
 "cells": [
  {
   "cell_type": "markdown",
   "metadata": {},
   "source": [
    "# Tu libreta científica \n",
    "\n",
    "Por fin llego el momento ... ahora la libreta es toda tuya.\n",
    "\n",
    "Solo le hemos puesto la instrucción que se necesita para que lo gráficos que hagas se puedan ver (%matplotlib inline) y la instrucción para leer los ficheros de datos ya que adivinar donde están los datos no es trabajo de un científico cazador de gammas sino de magos!\n",
    "\n",
    "El resto es cosa tuya. Eso si, no dudes en preguntar cualquier cosa ...\n",
    "\n",
    "¡Mucha suerte y, sobretodo, disfrúta!"
   ]
  },
  {
   "cell_type": "code",
   "execution_count": 1,
   "metadata": {},
   "outputs": [],
   "source": [
    "import pandas as pd\n",
    "import numpy as np\n",
    "import matplotlib.pyplot as pl\n",
    "%matplotlib inline"
   ]
  },
  {
   "cell_type": "code",
   "execution_count": 2,
   "metadata": {},
   "outputs": [],
   "source": [
    "Crab_ON= pd.read_csv(\"data/EvtList_ON_Crab.txt\", sep=' ')\n",
    "Crab_OFF= pd.read_csv(\"data/EvtList_OFF_Crab.txt\", sep=' ')"
   ]
  },
  {
   "cell_type": "code",
   "execution_count": null,
   "metadata": {
    "collapsed": true
   },
   "outputs": [],
   "source": []
  },
  {
   "cell_type": "code",
   "execution_count": null,
   "metadata": {
    "collapsed": true
   },
   "outputs": [],
   "source": []
  },
  {
   "cell_type": "code",
   "execution_count": null,
   "metadata": {
    "collapsed": true
   },
   "outputs": [],
   "source": []
  }
 ],
 "metadata": {
  "kernelspec": {
   "display_name": "Python 2",
   "language": "python",
   "name": "python2"
  },
  "language_info": {
   "codemirror_mode": {
    "name": "ipython",
    "version": 2
   },
   "file_extension": ".py",
   "mimetype": "text/x-python",
   "name": "python",
   "nbconvert_exporter": "python",
   "pygments_lexer": "ipython2",
   "version": "2.7.14"
  }
 },
 "nbformat": 4,
 "nbformat_minor": 1
}
