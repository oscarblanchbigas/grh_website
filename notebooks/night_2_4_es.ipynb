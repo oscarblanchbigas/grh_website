{
 "cells": [
  {
   "cell_type": "code",
   "execution_count": 1,
   "metadata": {
    "collapsed": false
   },
   "outputs": [],
   "source": [
    "import pandas as pd\n",
    "import matplotlib.pyplot as pl\n",
    "from Theta2ConCorteHadronness import *\n",
    "%matplotlib inline"
   ]
  },
  {
   "cell_type": "markdown",
   "metadata": {},
   "source": [
    "# Buscando señal en Cyg-X1\n",
    "Aquí tenemos los datos de ** Cyg-X1 ** ... veamos como buscamos señal en ellos"
   ]
  },
  {
   "cell_type": "markdown",
   "metadata": {},
   "source": [
    "Lo primero es leer los datos que hemos tomado. Veo que Daniel usaba una función que se ha creado él sin explicar mucho que hace realmente... eso está bien para empezar, pero quizás ya es hora de ver que hay dentro de la función:\n",
    "Cuando Daniel hace **leer(\"luna\")**, lo que hace en realidad es:\n",
    "> **luna=pd.read_csv(\"EmisionLuna.txt\", , sep=' ')**\n",
    "\n",
    "Y con esto crea una variable **luna** que tiene toda información que hay en el fichero \"EmisionLuna.txt\".\n",
    "\n",
    "![luna](screen_datos.png \"luna\")\n",
    "\n",
    "Hay 3 columnas y varias filas, Aquí solo vemos las 5 primeras.  \n",
    "Si queremos usar los datos de la **longitud de onda**, los encontramos aquí:\n",
    "> **luna.LongituOnda**\n",
    "\n",
    "Si queremos los os datos de la **Emision**, los encontramos aquí:\n",
    "> **luna.Emision**\n",
    "\n",
    "La primera columna es un índice. Como el que hay en un Excel, por ejemplo.\n",
    "\n",
    "Para ver las primeras 5 filas del fichero podemos hacer:\n",
    ">**luna.head(5)**\n",
    "\n",
    "Para ver cuantas filas hay en los datos podemos hacer:\n",
    ">**len(luna)**\n",
    "\n",
    "----------\n",
    "Veamos cómo lo hacemos con mis datos de CygX1. Primero vamos a leer los archivos que contienen los eventos para ON y OFF (os acordáis de qué es ON y OFF, ¿no?)"
   ]
  },
  {
   "cell_type": "code",
   "execution_count": 2,
   "metadata": {
    "collapsed": false
   },
   "outputs": [],
   "source": [
    "#Leemos los ficheros y les damos un nombre\n",
    "cygX1_ON= pd.read_csv('data/EvtList_ON_CygX3_1day.txt', sep=' ')\n",
    "cygX1_OFF= pd.read_csv('data/EvtList_OFF_CygX3_1day.txt', sep=' ')"
   ]
  },
  {
   "cell_type": "markdown",
   "metadata": {},
   "source": [
    "Ahora sé que los valores de ** Theta cuadrado ** para mis datos ON y OFF los encuentro así:\n",
    "\n",
    "> **cygX1_ON.theta2  \n",
    "> cygX1_OFF.theta2**\n"
   ]
  },
  {
   "cell_type": "code",
   "execution_count": 3,
   "metadata": {
    "collapsed": false
   },
   "outputs": [
    {
     "data": {
      "text/plain": [
       "0    0.149\n",
       "1    0.178\n",
       "2    0.011\n",
       "3    0.020\n",
       "4    0.317\n",
       "Name: theta2, dtype: float64"
      ]
     },
     "execution_count": 3,
     "metadata": {},
     "output_type": "execute_result"
    }
   ],
   "source": [
    "# Miramos qué aspecto tienen los 5 primeros valores de theta2 del ON, por ejemplo\n",
    "cygX1_ON\n",
    "cygX1_ON.theta2.head(5)\n"
   ]
  },
  {
   "cell_type": "code",
   "execution_count": 4,
   "metadata": {
    "collapsed": false
   },
   "outputs": [
    {
     "data": {
      "text/plain": [
       "32654"
      ]
     },
     "execution_count": 4,
     "metadata": {},
     "output_type": "execute_result"
    }
   ],
   "source": [
    "# Y también cuantas filas tiene el fichero\n",
    "len(cygX1_ON)"
   ]
  },
  {
   "cell_type": "markdown",
   "metadata": {},
   "source": [
    "Más de 30 mil eventos detectados por el telescopio. Esto no es ningún juego!  \n",
    "Aunque mirar los datos así no sirve para mucho. Lo que tenemos que hacer es representarlos gráficamente.\n",
    "\n",
    "--------\n",
    "Ahora que lo pienso, Daniel tampoco os ha mostrado como hacer el famoso ** Theta Plot **, cuando le vea le echo una bronca de las buenas.\n",
    "\n",
    "Nada, hagámoslo... en lugar de hacer el simple ** histograma(\"casa\", \"off\")** se tienen que dar algunos pasos más:\n",
    "\n",
    "1. Definir el tamaño y colores del espacio donde haremos el gráfico\n",
    "2. Hacer el gráfico de barras para el ON ( **cygX1_ON.theta2** ) y el OFF ( **cygX1_OFF.theta2** )\n",
    "3. Poner nombre a los ejes\n",
    "4. Mostrar el gráfico\n",
    "\n",
    "Veamos como se hace:"
   ]
  },
  {
   "cell_type": "code",
   "execution_count": 5,
   "metadata": {
    "collapsed": false
   },
   "outputs": [
    {
     "data": {
      "image/png": "[encoded data removed]",
      "text/plain": [
       "<matplotlib.figure.Figure at 0x1059aa0d0>"
      ]
     },
     "metadata": {},
     "output_type": "display_data"
    }
   ],
   "source": [
    "# 1 Definir espacio figura\n",
    "pl.figure(1, figsize=(10, 5), facecolor='w', edgecolor='k')\n",
    "# 2 Gráfico de barras ... cygX1_OFF.theta2 y cygX1_ON.theta2 es donde tengo los valores\n",
    "# que hay que representar, el resto es cosmética de los gráficos, no le deis\n",
    "# importancia por ahora\n",
    "pl.hist(cygX1_OFF.theta2, bins=30, histtype='stepfilled',alpha=0.5, color='red', normed=False)\n",
    "pl.hist(cygX1_ON.theta2, bins=30, histtype='step',alpha=0.9, color = 'blue', normed=False)\n",
    "# 3 Nombre para los ejes\n",
    "pl.xlabel('$\\Theta^2$ [$grados^2$]')\n",
    "pl.ylabel('Numero de Eventos')\n",
    "# 4 A mostrar el gráfico ...\n",
    "pl.show()"
   ]
  },
  {
   "cell_type": "markdown",
   "metadata": {},
   "source": [
    "Aquí no hay nada ... pero es que Daniel os ha hecho trampas no solo con el código, sino también con el análisis.\n",
    "\n",
    "Uno de los grandes problemas de los ** Cazadores de Rayos Gamma**, es que además de llegarnos rayos gamma, nos llegan núcleos de átomos (mayoritariamente protones). Así que para ver algo necesitamos quitarnos de encima estos otros rayos.\n",
    "\n",
    "Mira como queda el ** Theta Plot ** cuando me quito de encima los protones:"
   ]
  },
  {
   "cell_type": "code",
   "execution_count": 6,
   "metadata": {
    "collapsed": false
   },
   "outputs": [
    {
     "data": {
      "image/png": "[encoded data removed]",
      "text/plain": [
       "<matplotlib.figure.Figure at 0x10bebad90>"
      ]
     },
     "metadata": {},
     "output_type": "display_data"
    }
   ],
   "source": [
    "from Theta2ConCorteHadronness import *\n",
    "Non, Noff = histograma_hadronness(0.20)"
   ]
  },
  {
   "cell_type": "markdown",
   "metadata": {
    "collapsed": true
   },
   "source": [
    "Ahora soy yo quien hace trampas y no os enseño como me quedo solo con eventos con hadronness pequeño, :D.\n",
    "\n",
    "Pero no me digáis que no queda bonito el gráfico. Podéis ver que hay muchos menos eventos que antes y que ... *** ¡¡¡HAY SEÑAL!!! ***\n",
    "\n",
    "Veamos qué **significancia** tiene esta señal:"
   ]
  },
  {
   "cell_type": "code",
   "execution_count": 7,
   "metadata": {
    "collapsed": false
   },
   "outputs": [
    {
     "data": {
      "text/plain": [
       "2.6845929556404116"
      ]
     },
     "execution_count": 7,
     "metadata": {},
     "output_type": "execute_result"
    }
   ],
   "source": [
    "from Significancia import *\n",
    "CalcularSignificancia(Non, Noff)"
   ]
  },
  {
   "cell_type": "markdown",
   "metadata": {},
   "source": [
    "No está mal, 2.7 sigma para el corte de 0.20... ¿Qué quiere decir esto? Sigue un rato más conmigo y te lo intento explicar."
   ]
  }
 ],
 "metadata": {
  "kernelspec": {
   "display_name": "Python 2",
   "language": "python",
   "name": "python2"
  },
  "language_info": {
   "codemirror_mode": {
    "name": "ipython",
    "version": 2
   },
   "file_extension": ".py",
   "mimetype": "text/x-python",
   "name": "python",
   "nbconvert_exporter": "python",
   "pygments_lexer": "ipython2",
   "version": "2.7.12"
  }
 },
 "nbformat": 4,
 "nbformat_minor": 0
}
